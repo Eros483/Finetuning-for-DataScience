{
 "cells": [
  {
   "cell_type": "code",
   "execution_count": null,
   "id": "c44e520f",
   "metadata": {},
   "outputs": [
    {
     "ename": "",
     "evalue": "",
     "output_type": "error",
     "traceback": [
      "\u001b[1;31mThe Kernel crashed while executing code in the current cell or a previous cell. \n",
      "\u001b[1;31mPlease review the code in the cell(s) to identify a possible cause of the failure. \n",
      "\u001b[1;31mClick <a href='https://aka.ms/vscodeJupyterKernelCrash'>here</a> for more info. \n",
      "\u001b[1;31mView Jupyter <a href='command:jupyter.viewOutput'>log</a> for further details."
     ]
    }
   ],
   "source": [
    "import os\n",
    "import argparse\n",
    "import llama_cpp\n",
    "from llama_cpp import llama_model_quantize_params"
   ]
  },
  {
   "cell_type": "code",
   "execution_count": null,
   "id": "fc19f587",
   "metadata": {},
   "outputs": [],
   "source": [
    "result = llama_cpp.llama_model_quantize(\"phi-2_fp16.gguf\".encode(\"utf-8\"), \"phi-2_Q4_1_low_level.gguf\".encode(\"utf-8\"), llama_model_quantize_params(0,3,True, True, False))"
   ]
  }
 ],
 "metadata": {
  "kernelspec": {
   "display_name": "finetuning",
   "language": "python",
   "name": "python3"
  },
  "language_info": {
   "codemirror_mode": {
    "name": "ipython",
    "version": 3
   },
   "file_extension": ".py",
   "mimetype": "text/x-python",
   "name": "python",
   "nbconvert_exporter": "python",
   "pygments_lexer": "ipython3",
   "version": "3.10.15"
  }
 },
 "nbformat": 4,
 "nbformat_minor": 5
}
